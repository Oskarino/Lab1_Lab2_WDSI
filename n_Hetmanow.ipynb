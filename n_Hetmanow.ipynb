{
  "nbformat": 4,
  "nbformat_minor": 0,
  "metadata": {
    "colab": {
      "name": "n-Hetmanow.ipynb",
      "provenance": []
    },
    "kernelspec": {
      "name": "python3",
      "display_name": "Python 3"
    },
    "language_info": {
      "name": "python"
    }
  },
  "cells": [
    {
      "cell_type": "code",
      "metadata": {
        "id": "6Y_xYLLDT-fH"
      },
      "source": [
        "import matplotlib.pyplot as plt\n",
        "import random\n",
        "import copy"
      ],
      "execution_count": null,
      "outputs": []
    },
    {
      "cell_type": "code",
      "metadata": {
        "id": "DYlG_PggUDSb"
      },
      "source": [
        "class Problem(object):\n",
        "    \"\"\"Abstrakcyjna klasa problemów przeszukiwania.\"\"\"\n",
        "\n",
        "    def __init__(self, initial=None):\n",
        "        \"\"\"Podaj stan początkowy i opcjonalnie stany końcowe.\n",
        "           Podklasy mogą mieć dodatkowe argumenty. Patrz wyżej, jak wywołać konstruktor nadklasy.\"\"\"\n",
        "        self.initial = initial  # Stan początkowy problemu.\n",
        "\n",
        "    def actions(self, state):\n",
        "        \"Zwraca listę akcji ze stanu `state`.\"\n",
        "        raise NotImplementedError # Do napisania w podklasie!\n",
        "\n",
        "    def result(self, state, action):\n",
        "        \"Stan, który jest rezultatem wykonania akcji `action` na stanie `state`.\"\n",
        "        raise NotImplementedError # Do napisania w podklasie!\n",
        "\n",
        "    def is_goal(self, state):\n",
        "        \"Zwraca `True`, gdy stan jest rozwiązaniem.\" \n",
        "        raise NotImplementedError # Do napisania w podklasie!\n",
        "\n",
        "    def step_cost(self, state, action, result=None):\n",
        "        \"Koszt wykonania akcji `action` ze stanu `state`. `result` może być pomocniczne, gdy go znamy.\"\n",
        "        return 1 # Do nadpisania, gdy koszty nie są jednostkowe!"
      ],
      "execution_count": null,
      "outputs": []
    },
    {
      "cell_type": "code",
      "metadata": {
        "id": "OPPVsd4uUE4F"
      },
      "source": [
        "class Hetman(Problem):\n",
        "  \"\"\"Klasa definiujaca problem\"\"\"\n",
        "  def __init__(self, n:int): \n",
        "    if n < 4:\n",
        "      raise ValueError(\"The size must equal or greater than 4!\")\n",
        "    self.n = n\n",
        "    self.initial = [[0 for i in range(n)] for i in range(n)]\n",
        "\n",
        "  def actions(self, state):\n",
        "    \"Zwraca listę akcji ze stanu `state`. Indeksy pol na ktorych mozna jeszcze postawic hetmana\"\n",
        "    actions = []\n",
        "    for i in range(self.n):\n",
        "      for j in range(self.n):\n",
        "        # czy w wierszu nie ma juz hetmana\n",
        "        if sum(state[i]) > 0:\n",
        "          # print(f\"Wiersz dla elementu {i}{j}\")\n",
        "          continue\n",
        "        #czy w kolumnie nia ma juz hetmana\n",
        "        if sum([state[s][j] for s in range(self.n)]) > 0:\n",
        "          # print(f\"Kolumna dla elementu {i}{j}\")\n",
        "          continue\n",
        "        # czy po przekatnej nie ma juz hetmana\n",
        "        # upper left\n",
        "        diag_1 = [state[i-s][j-s] for s in range(1, min(i,j) + 1)]\n",
        "        #lower right\n",
        "        diag_2 = [state[i+s][j+s] for s in range(0, min(self.n - i,self.n -j) )]\n",
        "        #upper right\n",
        "        diag_3 = [state[i-s][j+s] for s in range(0, min(i+1,self.n -j))]\n",
        "        #lower left\n",
        "        diag_4 = [state[i+s][j-s] for s in range(0, min(self.n - i,j+1))]\n",
        "        if sum(diag_1) + sum(diag_2)+ sum(diag_3) + sum(diag_4) >0:\n",
        "          # print(f\"Przekątna dla elementu {i}{j}\")\n",
        "          continue\n",
        "        #mozna a tym polu postawic hetmana\n",
        "        actions.append((i,j))\n",
        "    return actions\n",
        "\n",
        "  def result(self, state, action):\n",
        "    \"Stan, który jest rezultatem wykonania akcji `action` na stanie `state`.\"\n",
        "    new_state = copy.deepcopy(state)\n",
        "    i,j = action\n",
        "    new_state[i][j] = 1\n",
        "    return new_state\n",
        "  def is_goal(self, state):\n",
        "    if sum([sum(row) for row in state]) == self.n:\n",
        "      return True\n",
        "    else:\n",
        "      return False"
      ],
      "execution_count": null,
      "outputs": []
    },
    {
      "cell_type": "code",
      "metadata": {
        "id": "dq7jReghUH8G"
      },
      "source": [
        "def visualize_table(state):\n",
        "  plt.matshow(state, cmap=\"Greys\")\n",
        "  plt.grid()\n",
        "  plt.show()"
      ],
      "execution_count": null,
      "outputs": []
    },
    {
      "cell_type": "markdown",
      "metadata": {
        "id": "lRcHK0dQUQ6t"
      },
      "source": [
        "#Testy wizualizacji"
      ]
    },
    {
      "cell_type": "code",
      "metadata": {
        "id": "iemjfeOoUTyy"
      },
      "source": [
        "my_problem = Hetman(8)"
      ],
      "execution_count": null,
      "outputs": []
    },
    {
      "cell_type": "code",
      "metadata": {
        "colab": {
          "base_uri": "https://localhost:8080/",
          "height": 275
        },
        "id": "5dx3z2aSUX9R",
        "outputId": "c008f6d1-ce52-4fd7-c751-502ef01bdf4d"
      },
      "source": [
        "visualize_table(my_problem.initial)"
      ],
      "execution_count": null,
      "outputs": [
        {
          "output_type": "display_data",
          "data": {
            "image/png": "[encoded data removed]",
            "text/plain": [
              "<Figure size 288x288 with 1 Axes>"
            ]
          },
          "metadata": {
            "needs_background": "light"
          }
        }
      ]
    },
    {
      "cell_type": "code",
      "metadata": {
        "colab": {
          "base_uri": "https://localhost:8080/",
          "height": 275
        },
        "id": "lPm2B4WPUaCV",
        "outputId": "e1ed79b7-3d19-4dd5-bb8a-47db716f752e"
      },
      "source": [
        "visualize_table([[0,1],[1,0]])"
      ],
      "execution_count": null,
      "outputs": [
        {
          "output_type": "display_data",
          "data": {
            "image/png": "[encoded data removed]",
            "text/plain": [
              "<Figure size 288x288 with 1 Axes>"
            ]
          },
          "metadata": {
            "needs_background": "light"
          }
        }
      ]
    },
    {
      "cell_type": "markdown",
      "metadata": {
        "id": "lMRiYnNHUc-n"
      },
      "source": [
        "#Test wolnych lokalizacji"
      ]
    },
    {
      "cell_type": "code",
      "metadata": {
        "colab": {
          "base_uri": "https://localhost:8080/"
        },
        "id": "XbQDPm7NUgLt",
        "outputId": "07f1ff4a-65fd-4200-88e7-aefdab46f6ca"
      },
      "source": [
        "my_problem = Hetman(4)\n",
        "my_problem.actions( my_problem.initial)"
      ],
      "execution_count": null,
      "outputs": [
        {
          "output_type": "execute_result",
          "data": {
            "text/plain": [
              "[(0, 0),\n",
              " (0, 1),\n",
              " (0, 2),\n",
              " (0, 3),\n",
              " (1, 0),\n",
              " (1, 1),\n",
              " (1, 2),\n",
              " (1, 3),\n",
              " (2, 0),\n",
              " (2, 1),\n",
              " (2, 2),\n",
              " (2, 3),\n",
              " (3, 0),\n",
              " (3, 1),\n",
              " (3, 2),\n",
              " (3, 3)]"
            ]
          },
          "metadata": {},
          "execution_count": 26
        }
      ]
    },
    {
      "cell_type": "code",
      "metadata": {
        "colab": {
          "base_uri": "https://localhost:8080/"
        },
        "id": "8Hl3BqqGUh1E",
        "outputId": "3dda4621-9a87-467c-ebb2-e2468b520ee1"
      },
      "source": [
        "my_problem_2 = Hetman(4)\n",
        "my_problem_2.actions([[0,0,0,0],[1,0,0,0],[0,0,0,0],[0,1,0,0]])"
      ],
      "execution_count": null,
      "outputs": [
        {
          "output_type": "execute_result",
          "data": {
            "text/plain": [
              "[(0, 2), (0, 3), (2, 3)]"
            ]
          },
          "metadata": {},
          "execution_count": 27
        }
      ]
    },
    {
      "cell_type": "markdown",
      "metadata": {
        "id": "Gh0OVkhNUmEG"
      },
      "source": [
        "Test gry (losowy)"
      ]
    },
    {
      "cell_type": "code",
      "metadata": {
        "colab": {
          "base_uri": "https://localhost:8080/",
          "height": 1000
        },
        "id": "fKjaghkYUmnp",
        "outputId": "2eca91a6-5626-4a2b-ae0a-1a8507f8fbff"
      },
      "source": [
        "#zaczynamy nowa gre z pusta plansza 8x8\n",
        "nowa_gra = Hetman(8)\n",
        "#stan gry\n",
        "state = nowa_gra.initial\n",
        "#mozliwe do wykonania ruchy\n",
        "possible_actions = nowa_gra.actions(state)\n",
        "\n",
        "\n",
        "while len(possible_actions) > 0:\n",
        "  #losujemy ruch\n",
        "  next_action = random.sample(possible_actions, 1)[0]\n",
        "  print(f\"Next action {next_action}\")\n",
        "  state = nowa_gra.result(state, next_action)\n",
        "  visualize_table(state)\n",
        "  possible_actions = nowa_gra.actions(state)\n",
        "if nowa_gra.is_goal(state):\n",
        "  print(\"Zwycięstwo\")\n",
        "else: \n",
        "  print(\"Porażka\")"
      ],
      "execution_count": null,
      "outputs": [
        {
          "output_type": "stream",
          "name": "stdout",
          "text": [
            "Next action (5, 0)\n"
          ]
        },
        {
          "output_type": "display_data",
          "data": {
            "image/png": "[encoded data removed]",
            "text/plain": [
              "<Figure size 288x288 with 1 Axes>"
            ]
          },
          "metadata": {
            "needs_background": "light"
          }
        },
        {
          "output_type": "stream",
          "name": "stdout",
          "text": [
            "Next action (2, 4)\n"
          ]
        },
        {
          "output_type": "display_data",
          "data": {
            "image/png": "[encoded data removed]",
            "text/plain": [
              "<Figure size 288x288 with 1 Axes>"
            ]
          },
          "metadata": {
            "needs_background": "light"
          }
        },
        {
          "output_type": "stream",
          "name": "stdout",
          "text": [
            "Next action (6, 7)\n"
          ]
        },
        {
          "output_type": "display_data",
          "data": {
            "image/png": "[encoded data removed]",
            "text/plain": [
              "<Figure size 288x288 with 1 Axes>"
            ]
          },
          "metadata": {
            "needs_background": "light"
          }
        },
        {
          "output_type": "stream",
          "name": "stdout",
          "text": [
            "Next action (4, 3)\n"
          ]
        },
        {
          "output_type": "display_data",
          "data": {
            "image/png": "[encoded data removed]",
            "text/plain": [
              "<Figure size 288x288 with 1 Axes>"
            ]
          },
          "metadata": {
            "needs_background": "light"
          }
        },
        {
          "output_type": "stream",
          "name": "stdout",
          "text": [
            "Next action (7, 5)\n"
          ]
        },
        {
          "output_type": "display_data",
          "data": {
            "image/png": "[encoded data removed]",
            "text/plain": [
              "<Figure size 288x288 with 1 Axes>"
            ]
          },
          "metadata": {
            "needs_background": "light"
          }
        },
        {
          "output_type": "stream",
          "name": "stdout",
          "text": [
            "Next action (3, 6)\n"
          ]
        },
        {
          "output_type": "display_data",
          "data": {
            "image/png": "[encoded data removed]",
            "text/plain": [
              "<Figure size 288x288 with 1 Axes>"
            ]
          },
          "metadata": {
            "needs_background": "light"
          }
        },
        {
          "output_type": "stream",
          "name": "stdout",
          "text": [
            "Next action (1, 1)\n"
          ]
        },
        {
          "output_type": "display_data",
          "data": {
            "image/png": "[encoded data removed]",
            "text/plain": [
              "<Figure size 288x288 with 1 Axes>"
            ]
          },
          "metadata": {
            "needs_background": "light"
          }
        },
        {
          "output_type": "stream",
          "name": "stdout",
          "text": [
            "Porażka\n"
          ]
        }
      ]
    },
    {
      "cell_type": "markdown",
      "metadata": {
        "id": "Glh668QJUrjK"
      },
      "source": [
        "Wierzcholki grafu"
      ]
    },
    {
      "cell_type": "code",
      "metadata": {
        "id": "IZWQs0IBUuj_"
      },
      "source": [
        "class Node(object):\n",
        "    \"\"\"Węzeł w drzewie przeszukiwania.\n",
        "       Jeśli do tego samego stanu można dojść na dwa sposoby, będą to oddzielne węzły.\"\"\"\n",
        "\n",
        "    def __init__(self, state, previous=None, action=None):\n",
        "        \"\"\"Tworzy nowy węzeł o stanie `state` na podstawie poprzedniego `previous` po akcji `action`\n",
        "           i koszcie `step_cost`.\n",
        "           Węzeł startowy ma `previous` i `action` równe None.\"\"\"\n",
        "        self.state = state\n",
        "\n",
        "        #wezly\n",
        "        self.previous = previous\n",
        "        self.action = action\n",
        "\n",
        "        \n",
        "    def children(self, problem:Problem):\n",
        "        \"\"\"Rozwija dany węzeł w danym problemie `problem` i zwraca węzły potomne.\"\"\"\n",
        "        # Hint: self to po prostu obecny obiekt, więc można podać go jako argument do Node(..., self, ...).\n",
        "        return [Node(problem.result(self.state, new_action), self, new_action) for new_action in  problem.actions(self.state)]\n",
        "\n",
        "    def parents(self):\n",
        "      \"\"\"Rozwija dany węzeł wstecz.\"\"\"\n",
        "      all_previous_states = []\n",
        "      previous = self.previous\n",
        "      while previous:\n",
        "        all_previous_states.append(previous.state)\n",
        "        previous = previous.previous\n",
        "      all_previous_states.reverse()\n",
        "      return all_previous_states"
      ],
      "execution_count": null,
      "outputs": []
    },
    {
      "cell_type": "code",
      "metadata": {
        "colab": {
          "base_uri": "https://localhost:8080/",
          "height": 1000
        },
        "id": "qi2rdWasUwdB",
        "outputId": "3d588de5-fc95-4d82-d30d-f9bfcfc33501"
      },
      "source": [
        "my_problem = Hetman(8)\n",
        "initial_node = Node(my_problem.initial)\n",
        "print(my_problem.initial)\n",
        "i = 0\n",
        "for next_action in initial_node.children(my_problem):\n",
        "  visualize_table(next_action.state)\n",
        "  i = i+1\n",
        "  if i > 5:\n",
        "    break\n",
        "print(my_problem.initial)\n"
      ],
      "execution_count": null,
      "outputs": [
        {
          "output_type": "stream",
          "name": "stdout",
          "text": [
            "[[0, 0, 0, 0, 0, 0, 0, 0], [0, 0, 0, 0, 0, 0, 0, 0], [0, 0, 0, 0, 0, 0, 0, 0], [0, 0, 0, 0, 0, 0, 0, 0], [0, 0, 0, 0, 0, 0, 0, 0], [0, 0, 0, 0, 0, 0, 0, 0], [0, 0, 0, 0, 0, 0, 0, 0], [0, 0, 0, 0, 0, 0, 0, 0]]\n"
          ]
        },
        {
          "output_type": "display_data",
          "data": {
            "image/png": "[encoded data removed]",
            "text/plain": [
              "<Figure size 288x288 with 1 Axes>"
            ]
          },
          "metadata": {
            "needs_background": "light"
          }
        },
        {
          "output_type": "display_data",
          "data": {
            "image/png": "[encoded data removed]",
            "text/plain": [
              "<Figure size 288x288 with 1 Axes>"
            ]
          },
          "metadata": {
            "needs_background": "light"
          }
        },
        {
          "output_type": "display_data",
          "data": {
            "image/png": "[encoded data removed]",
            "text/plain": [
              "<Figure size 288x288 with 1 Axes>"
            ]
          },
          "metadata": {
            "needs_background": "light"
          }
        },
        {
          "output_type": "display_data",
          "data": {
            "image/png": "[encoded data removed]",
            "text/plain": [
              "<Figure size 288x288 with 1 Axes>"
            ]
          },
          "metadata": {
            "needs_background": "light"
          }
        },
        {
          "output_type": "display_data",
          "data": {
            "image/png": "[encoded data removed]",
            "text/plain": [
              "<Figure size 288x288 with 1 Axes>"
            ]
          },
          "metadata": {
            "needs_background": "light"
          }
        },
        {
          "output_type": "display_data",
          "data": {
            "image/png": "[encoded data removed]",
            "text/plain": [
              "<Figure size 288x288 with 1 Axes>"
            ]
          },
          "metadata": {
            "needs_background": "light"
          }
        },
        {
          "output_type": "stream",
          "name": "stdout",
          "text": [
            "[[0, 0, 0, 0, 0, 0, 0, 0], [0, 0, 0, 0, 0, 0, 0, 0], [0, 0, 0, 0, 0, 0, 0, 0], [0, 0, 0, 0, 0, 0, 0, 0], [0, 0, 0, 0, 0, 0, 0, 0], [0, 0, 0, 0, 0, 0, 0, 0], [0, 0, 0, 0, 0, 0, 0, 0], [0, 0, 0, 0, 0, 0, 0, 0]]\n"
          ]
        }
      ]
    },
    {
      "cell_type": "code",
      "metadata": {
        "id": "94RSpSmDUzOe"
      },
      "source": [
        "from collections import deque\n",
        "\n",
        "class FIFOQueue():\n",
        "    #BFS\n",
        "    def __init__(self):\n",
        "        self.queue = deque()\n",
        "        \n",
        "    def add(self, node):\n",
        "        self.queue.append(node)\n",
        "        \n",
        "    def pop(self):\n",
        "        return self.queue.popleft()\n",
        "        \n",
        "    def __len__(self):\n",
        "        return len(self.queue)\n",
        "\n",
        "class LIFOQueue():\n",
        "    #DFS\n",
        "    def __init__(self):\n",
        "        self.queue = deque()\n",
        "        \n",
        "    def add(self, node):\n",
        "        self.queue.append(node)\n",
        "        \n",
        "    def pop(self):\n",
        "        return self.queue.pop()\n",
        "        \n",
        "    def __len__(self):\n",
        "        return len(self.queue)\n",
        "\n"
      ],
      "execution_count": null,
      "outputs": []
    },
    {
      "cell_type": "code",
      "metadata": {
        "id": "cTq9SYXZU1fP"
      },
      "source": [
        "def search(problem:Problem, queue, verbose=False):\n",
        "    \"\"\"Algorytm przeszukiwania parametryzowany problemem i obiektem implementującą kolejkę.\n",
        "       Zwraca węzeł reprezentujący stan będący rozwiązaniem.\"\"\"\n",
        "    initial_node = Node(problem.initial)\n",
        "    queue.add(initial_node)\n",
        "    current_node = initial_node\n",
        "    n_iters = 1\n",
        "\n",
        "    while not problem.is_goal(current_node.state):\n",
        "      if len(queue) >0:\n",
        "          current_node = queue.pop()\n",
        "          n_iters = n_iters + 1\n",
        "          if verbose:\n",
        "              visualize_table(current_node.state)\n",
        "              print(current_node.children(problem ))\n",
        "          for new_node in current_node.children(problem):\n",
        "              queue.add(new_node)    \n",
        "      else:\n",
        "        print(\"no solution found\")\n",
        "        return None\n",
        "\n",
        "    return current_node, n_iters"
      ],
      "execution_count": null,
      "outputs": []
    },
    {
      "cell_type": "code",
      "metadata": {
        "id": "qRJa_QxZU3Hf"
      },
      "source": [
        "def BFS(problem):\n",
        "    \"\"\"Algorytm przeszukiwania wszerz używa po prostu kolejki FIFO.\"\"\"\n",
        "    return search(problem, FIFOQueue())"
      ],
      "execution_count": null,
      "outputs": []
    },
    {
      "cell_type": "code",
      "metadata": {
        "id": "6wG3ksqLU5BN"
      },
      "source": [
        "def DFS(problem):\n",
        "    \"\"\"Algorytm przeszukiwania wszerz używa po prostu kolejki FIFO.\"\"\"\n",
        "    return search(problem, LIFOQueue())"
      ],
      "execution_count": null,
      "outputs": []
    },
    {
      "cell_type": "code",
      "metadata": {
        "colab": {
          "base_uri": "https://localhost:8080/",
          "height": 293
        },
        "id": "nKQeII2KU6xY",
        "outputId": "ae3828dd-66b5-446a-8e30-22d8d7e79dd9"
      },
      "source": [
        "my_problem = Hetman(5)\n",
        "solution, n_iters = BFS(my_problem)\n",
        "if solution:\n",
        "  visualize_table(solution.state)\n",
        "  print(f\"Solution found in {n_iters} steps\")"
      ],
      "execution_count": null,
      "outputs": [
        {
          "output_type": "display_data",
          "data": {
            "image/png": "[encoded data removed]",
            "text/plain": [
              "<Figure size 288x288 with 1 Axes>"
            ]
          },
          "metadata": {
            "needs_background": "light"
          }
        },
        {
          "output_type": "stream",
          "name": "stdout",
          "text": [
            "Solution found in 3500 steps\n"
          ]
        }
      ]
    },
    {
      "cell_type": "code",
      "metadata": {
        "colab": {
          "base_uri": "https://localhost:8080/",
          "height": 293
        },
        "id": "9rRqehuwVB1Y",
        "outputId": "781a43ee-0213-42e3-b641-c376c961c13e"
      },
      "source": [
        "my_problem = Hetman(5)\n",
        "solution, n_iters = DFS(my_problem)\n",
        "if solution:\n",
        "  visualize_table(solution.state)\n",
        "  print(f\"Solution found in {n_iters} steps\")"
      ],
      "execution_count": null,
      "outputs": [
        {
          "output_type": "display_data",
          "data": {
            "image/png": "[encoded data removed]",
            "text/plain": [
              "<Figure size 288x288 with 1 Axes>"
            ]
          },
          "metadata": {
            "needs_background": "light"
          }
        },
        {
          "output_type": "stream",
          "name": "stdout",
          "text": [
            "Solution found in 7 steps\n"
          ]
        }
      ]
    }
  ]
}